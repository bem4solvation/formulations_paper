{
 "cells": [
  {
   "cell_type": "code",
   "execution_count": null,
   "id": "hindu-literacy",
   "metadata": {},
   "outputs": [],
   "source": [
    "import subprocess"
   ]
  },
  {
   "cell_type": "code",
   "execution_count": null,
   "id": "outside-career",
   "metadata": {},
   "outputs": [],
   "source": [
    "folder = \"/pb_formulations_paper/results/eigen-values/arg-10/\"\n",
    "molecule_file_path = \"arg_nref_0.pqr\"\n",
    "density = 10"
   ]
  },
  {
   "cell_type": "code",
   "execution_count": null,
   "id": "ordered-fields",
   "metadata": {},
   "outputs": [],
   "source": [
    "form_types = [\"weak\", \"weak\", \"weak\", \"weak\", \"strong\", \"strong\", \"weak\", \"strong\", \"strong\", \"strong\", \"strong\"]\n",
    "formulations = [\"direct\", \"direct_permuted\", \"direct_external\", \"direct_external_permuted\", \"juffer\", \"lu\", \"lu\", \"muller_internal\", \"muller_external\", \"first_kind_internal\", \"first_kind_external\"]"
   ]
  },
  {
   "cell_type": "code",
   "execution_count": null,
   "id": "affiliated-press",
   "metadata": {
    "scrolled": true
   },
   "outputs": [],
   "source": [
    "for i in range(len(form_types)):\n",
    "    print(formulations[i])\n",
    "    subprocess.call(['python3', 'no_precon-save-data.py', folder, molecule_file_path, str(density), formulations[i], form_types[i]])"
   ]
  },
  {
   "cell_type": "code",
   "execution_count": null,
   "id": "pleasant-dress",
   "metadata": {},
   "outputs": [],
   "source": []
  },
  {
   "cell_type": "code",
   "execution_count": null,
   "id": "significant-sleeve",
   "metadata": {},
   "outputs": [],
   "source": [
    "form_types = [\"weak\", \"weak\", \"weak\", \"weak\", \"strong\", \"strong\", \"strong\", \"strong\", \"strong\", \"strong\", \"strong\", \"strong\", \"strong\", \"strong\", \"weak\"]\n",
    "formulations = [\"direct\", \"direct_permuted\", \"direct_external\", \"direct_external_permuted\", \"first_kind_internal\", \"first_kind_external\", \"first_kind_internal\", \"first_kind_external\", \"first_kind_internal\", \"first_kind_external\", \"first_kind_internal\", \"first_kind_external\", \"first_kind_internal\", \"first_kind_external\", \"juffer\"]\n",
    "preconditioning_types = [\"block_diagonal\", \"block_diagonal\", \"block_diagonal\", \"block_diagonal\", \"calderon_squared\", \"calderon_squared\", \"calderon_interior_operator\", \"calderon_interior_operator_scaled\", \"calderon_exterior_operator_scaled\", \"calderon_exterior_operator\", \"calderon_interior_operator_with_scaled_mass_matrix\", \"calderon_interior_operator_scaled_with_scaled_mass_matrix\", \"calderon_exterior_operator_scaled_with_scaled_mass_matrix\", \"calderon_exterior_operator_with_scaled_mass_matrix\", \"scaled_mass\"]"
   ]
  },
  {
   "cell_type": "code",
   "execution_count": null,
   "id": "amateur-convention",
   "metadata": {
    "scrolled": false
   },
   "outputs": [],
   "source": [
    "for i in range(len(form_types)):\n",
    "    print(formulations[i])\n",
    "    subprocess.call(['python3', 'with_precon-save-data.py', folder, molecule_file_path, str(density), formulations[i], form_types[i], preconditioning_types[i]])"
   ]
  },
  {
   "cell_type": "code",
   "execution_count": null,
   "id": "green-wellington",
   "metadata": {},
   "outputs": [],
   "source": []
  }
 ],
 "metadata": {
  "kernelspec": {
   "display_name": "Python 3 (ipykernel)",
   "language": "python",
   "name": "python3"
  },
  "language_info": {
   "codemirror_mode": {
    "name": "ipython",
    "version": 3
   },
   "file_extension": ".py",
   "mimetype": "text/x-python",
   "name": "python",
   "nbconvert_exporter": "python",
   "pygments_lexer": "ipython3",
   "version": "3.9.7"
  }
 },
 "nbformat": 4,
 "nbformat_minor": 5
}
