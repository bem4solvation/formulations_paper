{
 "cells": [
  {
   "cell_type": "code",
   "execution_count": null,
   "metadata": {},
   "outputs": [],
   "source": [
    "import subprocess"
   ]
  },
  {
   "cell_type": "code",
   "execution_count": null,
   "metadata": {},
   "outputs": [],
   "source": [
    "results_folder = \"results/\"\n",
    "results_file_name = \"final-results.csv\"\n",
    "results_file_path = results_folder+results_file_name\n",
    "molecules_folder_path = \"Molecules/\"\n",
    "density = 4\n",
    "\n",
    "molecule_names = [\"1bpi\", \"1lyz\", \"1a7m\", \"1x1z\", \"4lgp\", \"1igt\"]"
   ]
  },
  {
   "cell_type": "code",
   "execution_count": null,
   "metadata": {},
   "outputs": [],
   "source": [
    "molecule_pdb_paths = []\n",
    "for molecule in molecule_names:\n",
    "    molecule_pdb_paths.append(molecules_folder_path+molecule+\"/\"+molecule+\".pdb\")"
   ]
  },
  {
   "cell_type": "markdown",
   "metadata": {},
   "source": [
    "---"
   ]
  },
  {
   "cell_type": "code",
   "execution_count": null,
   "metadata": {},
   "outputs": [],
   "source": [
    "formulations = [\"direct\",\n",
    "                \"juffer\",\n",
    "                \"lu\",\n",
    "                \"first_kind_external\",\n",
    "                \"first_kind_internal\",\n",
    "                \"first_kind_external\",\n",
    "                \"first_kind_internal\",\n",
    "               ]\n",
    "\n",
    "preconditioning_types = [\"block_diagonal\",\n",
    "                         \"scaled_mass\",\n",
    "                         \"mass_matrix\",\n",
    "                         \"calderon_squared\",\n",
    "                         \"calderon_interior_operator_with_scaled_mass_matrix\",\n",
    "                         \"calderon_squared_lowered_parameters\",\n",
    "                         \"calderon_interior_operator_with_scaled_mass_matrix_lowered_parameters\",\n",
    "                        ]\n",
    "\n",
    "expansion_order = 3\n",
    "ncrit = 50\n",
    "\n",
    "quadrature_points = 3  #default is 4"
   ]
  },
  {
   "cell_type": "code",
   "execution_count": null,
   "metadata": {
    "scrolled": true
   },
   "outputs": [],
   "source": [
    "for molec_count in range(len(molecule_names)):\n",
    "    print(molecule_names[molec_count])\n",
    "    for formulation_count in range(len(formulations)):\n",
    "        print(formulations[formulation_count]+\"  ----->    \"+preconditioning_types[formulation_count])\n",
    "        subprocess.call(['python3',\n",
    "                         'benchmark-runs.py',\n",
    "                         results_file_path,\n",
    "                         molecule_pdb_paths[molec_count],\n",
    "                         str(density),\n",
    "                         formulations[formulation_count],\n",
    "                         preconditioning_types[formulation_count],\n",
    "                         str(expansion_order),\n",
    "                         str(ncrit),\n",
    "                         str(quadrature_points)\n",
    "                        ])"
   ]
  },
  {
   "cell_type": "code",
   "execution_count": null,
   "metadata": {
    "scrolled": false
   },
   "outputs": [],
   "source": [
    "for run in range(6):\n",
    "    print(\"Run number: \"+str(run))\n",
    "    for molec_count in range(len(molecule_names)):\n",
    "        print(molecule_names[molec_count])\n",
    "        for formulation_count in range(len(formulations)):\n",
    "            print(formulations[formulation_count]+\"  ----->    \"+preconditioning_types[formulation_count])\n",
    "            subprocess.call(['python3',\n",
    "                             'benchmark-runs.py',\n",
    "                             results_file_path,\n",
    "                             molecule_pdb_paths[molec_count],\n",
    "                             str(density),\n",
    "                             formulations[formulation_count],\n",
    "                             preconditioning_types[formulation_count],\n",
    "                             str(expansion_order),\n",
    "                             str(ncrit),\n",
    "                             str(quadrature_points)\n",
    "                            ])"
   ]
  }
 ],
 "metadata": {
  "kernelspec": {
   "display_name": "Python 3 (ipykernel)",
   "language": "python",
   "name": "python3"
  },
  "language_info": {
   "codemirror_mode": {
    "name": "ipython",
    "version": 3
   },
   "file_extension": ".py",
   "mimetype": "text/x-python",
   "name": "python",
   "nbconvert_exporter": "python",
   "pygments_lexer": "ipython3",
   "version": "3.9.7"
  }
 },
 "nbformat": 4,
 "nbformat_minor": 4
}
