{
 "cells": [
  {
   "cell_type": "code",
   "execution_count": null,
   "metadata": {},
   "outputs": [],
   "source": [
    "import subprocess"
   ]
  },
  {
   "cell_type": "code",
   "execution_count": null,
   "metadata": {},
   "outputs": [],
   "source": [
    "results_folder = \"/pb_formulations_paper/results/large-scale-benchmarking/\"\n",
    "results_file_name = \"final-results.csv\"\n",
    "results_file_path = results_folder+results_file_name\n",
    "molecules_folder_path = \"/Molecules/\"\n",
    "density = 4\n",
    "\n",
    "molecule_names = [\"1bpi\", \"1lyz\", \"1a7m\", \"1x1z\", \"4lgp\", \"1igt\"]"
   ]
  },
  {
   "cell_type": "code",
   "execution_count": null,
   "metadata": {},
   "outputs": [],
   "source": [
    "molecule_pdb_paths = []\n",
    "for molecule in molecule_names:\n",
    "    molecule_pdb_paths.append(molecules_folder_path+molecule+\"/\"+molecule+\".pdb\")"
   ]
  },
  {
   "cell_type": "markdown",
   "metadata": {},
   "source": [
    "---"
   ]
  },
  {
   "cell_type": "code",
   "execution_count": null,
   "metadata": {},
   "outputs": [],
   "source": [
    "form_types = [\"weak\", \"weak\", \"strong\", \"strong\"]\n",
    "formulations = [\"direct\", \"juffer\", \"lu\", \"first_kind_external\"]\n",
    "preconditioning_types = [\"block_diagonal_test\", \"juffer_scaled_mass\", \"none\", \"calderon_squared\"]\n",
    "\n",
    "expansion_order = 3\n",
    "ncrit = 50\n",
    "\n",
    "quadrature_points = 3  #default is 4"
   ]
  },
  {
   "cell_type": "code",
   "execution_count": null,
   "metadata": {},
   "outputs": [],
   "source": [
    "for molec_count in range(len(molecule_names)):\n",
    "    print(molecule_names[molec_count])\n",
    "    for formulation_count in range(len(formulations)):\n",
    "        print(formulations[formulation_count]+\"  ----->    \"+preconditioning_types[formulation_count])\n",
    "        subprocess.call(['python3',\n",
    "                         'benchmark-runs.py',\n",
    "                         results_file_path,\n",
    "                         molecule_pdb_paths[molec_count],\n",
    "                         str(density),\n",
    "                         formulations[formulation_count],\n",
    "                         form_types[formulation_count],\n",
    "                         preconditioning_types[formulation_count],\n",
    "                         str(expansion_order),\n",
    "                         str(ncrit),\n",
    "                         str(quadrature_points)\n",
    "                        ])"
   ]
  },
  {
   "cell_type": "code",
   "execution_count": null,
   "metadata": {
    "scrolled": false
   },
   "outputs": [],
   "source": [
    "for run in range(6):\n",
    "    print(\"Run number: \"+str(run))\n",
    "    for molec_count in range(len(molecule_names)):\n",
    "        print(molecule_names[molec_count])\n",
    "        for formulation_count in range(len(formulations)):\n",
    "            print(formulations[formulation_count]+\"  ----->    \"+preconditioning_types[formulation_count])\n",
    "            subprocess.call(['python3',\n",
    "                             'benchmark-runs.py',\n",
    "                             results_file_path,\n",
    "                             molecule_pdb_paths[molec_count],\n",
    "                             str(density),\n",
    "                             formulations[formulation_count],\n",
    "                             form_types[formulation_count],\n",
    "                             preconditioning_types[formulation_count],\n",
    "                             str(expansion_order),\n",
    "                             str(ncrit),\n",
    "                             str(quadrature_points)\n",
    "                            ])"
   ]
  },
  {
   "cell_type": "markdown",
   "metadata": {},
   "source": [
    "---"
   ]
  },
  {
   "cell_type": "code",
   "execution_count": null,
   "metadata": {},
   "outputs": [],
   "source": [
    "form_types = [\"strong\"]\n",
    "formulations = [\"first_kind_external\"]\n",
    "preconditioning_types = [\"calderon_squared\"]\n",
    "\n",
    "form_types = [\"strong\"]\n",
    "formulations = [\"first_kind_internal\"]\n",
    "preconditioning_types = [\"calderon_scaled_interior_operator\"]\n",
    "\n",
    "expansion_order_main = 3\n",
    "ncrit_main = 50\n",
    "regular_quadrature_points_main = 3  #default is 4\n",
    "singular_quadrature_points_main = 4  #default is 4\n",
    "\n",
    "expansion_order_calderon = 2\n",
    "ncrit_calderon = 50\n",
    "regular_quadrature_points_calderon = 1  #default is 4\n",
    "singular_quadrature_points_calderon = 3  #default is 4"
   ]
  },
  {
   "cell_type": "code",
   "execution_count": null,
   "metadata": {},
   "outputs": [],
   "source": [
    "for molec_count in range(len(molecule_names)):\n",
    "    print(molecule_names[molec_count])\n",
    "    for formulation_count in range(len(formulations)):\n",
    "        print(formulations[formulation_count]+\"  ----->    \"+preconditioning_types[formulation_count])\n",
    "        subprocess.call(['python3',\n",
    "                         'benchmark-runs-special-calderon-squared.py',\n",
    "                         results_file_path,\n",
    "                         molecule_pdb_paths[molec_count],\n",
    "                         str(density),\n",
    "                         formulations[formulation_count],\n",
    "                         form_types[formulation_count],\n",
    "                         preconditioning_types[formulation_count],\n",
    "                         str(expansion_order_main),\n",
    "                         str(ncrit_main),\n",
    "                         str(regular_quadrature_points_main),\n",
    "                         str(singular_quadrature_points_main),\n",
    "                         str(expansion_order_calderon),\n",
    "                         str(ncrit_calderon),\n",
    "                         str(regular_quadrature_points_calderon),\n",
    "                         str(singular_quadrature_points_calderon)])"
   ]
  },
  {
   "cell_type": "code",
   "execution_count": null,
   "metadata": {},
   "outputs": [],
   "source": [
    "for run in range(6):\n",
    "    print(\"Run number: \"+str(run))\n",
    "    #molec_count = 1\n",
    "    for molec_count in range(len(molecule_names)):\n",
    "        print(molecule_names[molec_count])\n",
    "        for formulation_count in range(len(formulations)):\n",
    "            print(formulations[formulation_count]+\"  ----->    \"+preconditioning_types[formulation_count])\n",
    "            subprocess.call(['python3',\n",
    "                             'benchmark-runs-special-calderon-squared.py',\n",
    "                             results_file_path,\n",
    "                             molecule_pdb_paths[molec_count],\n",
    "                             str(density),\n",
    "                             formulations[formulation_count],\n",
    "                             form_types[formulation_count],\n",
    "                             preconditioning_types[formulation_count],\n",
    "                             str(expansion_order_main),\n",
    "                             str(ncrit_main),\n",
    "                             str(regular_quadrature_points_main),\n",
    "                             str(singular_quadrature_points_main),\n",
    "                             str(expansion_order_calderon),\n",
    "                             str(ncrit_calderon),\n",
    "                             str(regular_quadrature_points_calderon),\n",
    "                             str(singular_quadrature_points_calderon)])"
   ]
  },
  {
   "cell_type": "markdown",
   "metadata": {},
   "source": [
    "---"
   ]
  },
  {
   "cell_type": "code",
   "execution_count": null,
   "metadata": {},
   "outputs": [],
   "source": [
    "form_types = [\"strong\"]\n",
    "formulations = [\"first_kind_internal\"]\n",
    "preconditioning_types = [\"calderon_scaled_interior_operator\"]\n",
    "\n",
    "expansion_order_main = 3\n",
    "ncrit_main = 50\n",
    "regular_quadrature_points_main = 3  #default is 4\n",
    "singular_quadrature_points_main = 4  #default is 4\n",
    "\n",
    "expansion_order_calderon = 2\n",
    "ncrit_calderon = 50\n",
    "regular_quadrature_points_calderon = 1  #default is 4\n",
    "singular_quadrature_points_calderon = 3  #default is 4"
   ]
  },
  {
   "cell_type": "code",
   "execution_count": null,
   "metadata": {},
   "outputs": [],
   "source": [
    "for molec_count in range(len(molecule_names)):\n",
    "    print(molecule_names[molec_count])\n",
    "    for formulation_count in range(len(formulations)):\n",
    "        print(formulations[formulation_count]+\"  ----->    \"+preconditioning_types[formulation_count])\n",
    "        subprocess.call(['python3',\n",
    "                         'benchmark-runs-special-calderon-interior-scaled-mass.py',\n",
    "                         results_file_path,\n",
    "                         molecule_pdb_paths[molec_count],\n",
    "                         str(density),\n",
    "                         formulations[formulation_count],\n",
    "                         form_types[formulation_count],\n",
    "                         preconditioning_types[formulation_count],\n",
    "                         str(expansion_order_main),\n",
    "                         str(ncrit_main),\n",
    "                         str(regular_quadrature_points_main),\n",
    "                         str(singular_quadrature_points_main),\n",
    "                         str(expansion_order_calderon),\n",
    "                         str(ncrit_calderon),\n",
    "                         str(regular_quadrature_points_calderon),\n",
    "                         str(singular_quadrature_points_calderon)])"
   ]
  },
  {
   "cell_type": "code",
   "execution_count": null,
   "metadata": {},
   "outputs": [],
   "source": [
    "for run in range(6):\n",
    "    print(\"Run number: \"+str(run))\n",
    "    #molec_count = 1\n",
    "    for molec_count in range(len(molecule_names)):\n",
    "        print(molecule_names[molec_count])\n",
    "        for formulation_count in range(len(formulations)):\n",
    "            print(formulations[formulation_count]+\"  ----->    \"+preconditioning_types[formulation_count])\n",
    "            subprocess.call(['python3',\n",
    "                             'benchmark-runs-special-calderon-interior-scaled-mass.py',\n",
    "                             results_file_path,\n",
    "                             molecule_pdb_paths[molec_count],\n",
    "                             str(density),\n",
    "                             formulations[formulation_count],\n",
    "                             form_types[formulation_count],\n",
    "                             preconditioning_types[formulation_count],\n",
    "                             str(expansion_order_main),\n",
    "                             str(ncrit_main),\n",
    "                             str(regular_quadrature_points_main),\n",
    "                             str(singular_quadrature_points_main),\n",
    "                             str(expansion_order_calderon),\n",
    "                             str(ncrit_calderon),\n",
    "                             str(regular_quadrature_points_calderon),\n",
    "                             str(singular_quadrature_points_calderon)])"
   ]
  },
  {
   "cell_type": "code",
   "execution_count": null,
   "metadata": {},
   "outputs": [],
   "source": []
  }
 ],
 "metadata": {
  "kernelspec": {
   "display_name": "Python 3",
   "language": "python",
   "name": "python3"
  },
  "language_info": {
   "codemirror_mode": {
    "name": "ipython",
    "version": 3
   },
   "file_extension": ".py",
   "mimetype": "text/x-python",
   "name": "python",
   "nbconvert_exporter": "python",
   "pygments_lexer": "ipython3",
   "version": "3.8.6"
  }
 },
 "nbformat": 4,
 "nbformat_minor": 4
}
