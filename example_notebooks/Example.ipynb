{
 "cells": [
  {
   "cell_type": "markdown",
   "id": "sunrise-disaster",
   "metadata": {},
   "source": [
    "Example notebook of use of the bem_electrsostics library used for the PB formulations paper."
   ]
  },
  {
   "cell_type": "code",
   "execution_count": 2,
   "id": "false-directory",
   "metadata": {},
   "outputs": [],
   "source": [
    "import bem_electrostatics"
   ]
  },
  {
   "cell_type": "code",
   "execution_count": 4,
   "id": "pacific-revision",
   "metadata": {},
   "outputs": [
    {
     "data": {
      "text/plain": [
       "<StreamHandler stderr (INFO)>"
      ]
     },
     "execution_count": 4,
     "metadata": {},
     "output_type": "execute_result"
    }
   ],
   "source": [
    "bem_electrostatics.bempp.api.enable_console_logging(\"info\")"
   ]
  },
  {
   "cell_type": "markdown",
   "id": "liquid-stanford",
   "metadata": {},
   "source": [
    "The solute (molecule) object can be created simpily as follows."
   ]
  },
  {
   "cell_type": "code",
   "execution_count": 5,
   "id": "greenhouse-laugh",
   "metadata": {},
   "outputs": [
    {
     "name": "stderr",
     "output_type": "stream",
     "text": [
      "bempp:HOST:INFO: Created grid with id c349a92f-dbca-445f-8182-275e61154824. Elements: 25040. Edges: 37560. Vertices: 12524\n"
     ]
    }
   ],
   "source": [
    "protein = bem_electrostatics.Solute(\"/Molecules/1bpi/1bpi.pdb\", mesh_density=4, force_field='parse')"
   ]
  },
  {
   "cell_type": "markdown",
   "id": "rubber-speed",
   "metadata": {},
   "source": [
    "Now the different desierd parameters for the PB simulation, such as formualtion and preconditioning type, can be set. Below are the parameters for using the juffer formulation with scaled mass matrix preconditioning:"
   ]
  },
  {
   "cell_type": "code",
   "execution_count": 6,
   "id": "fixed-supplement",
   "metadata": {},
   "outputs": [],
   "source": [
    "protein.pb_formulation = \"juffer\"\n",
    "protein.discrete_form_type = \"weak\"\n",
    "protein.pb_formulation_preconditioning = True\n",
    "protein.pb_formulation_preconditioning_type = \"juffer_scaled_mass\""
   ]
  },
  {
   "cell_type": "markdown",
   "id": "suspended-workshop",
   "metadata": {},
   "source": [
    "However other formulations and preconditioning schemes can be set easily."
   ]
  },
  {
   "cell_type": "code",
   "execution_count": null,
   "id": "established-cricket",
   "metadata": {},
   "outputs": [],
   "source": [
    "protein.pb_formulation = \"direct\"\n",
    "protein.discrete_form_type = \"weak\"\n",
    "protein.pb_formulation_preconditioning = True\n",
    "protein.pb_formulation_preconditioning_type = \"block_diagonal_test\""
   ]
  },
  {
   "cell_type": "code",
   "execution_count": null,
   "id": "pending-hawaiian",
   "metadata": {},
   "outputs": [],
   "source": [
    "protein.pb_formulation = \"lu\"\n",
    "protein.discrete_form_type = \"strong\"\n",
    "protein.pb_formulation_preconditioning = True"
   ]
  },
  {
   "cell_type": "code",
   "execution_count": null,
   "id": "divine-genetics",
   "metadata": {},
   "outputs": [],
   "source": [
    "protein.pb_formulation = \"first_kind_internal\"\n",
    "protein.discrete_form_type = \"strong\"\n",
    "protein.pb_formulation_preconditioning = True\n",
    "protein.pb_formulation_preconditioning_type = \"calderon_squared\""
   ]
  },
  {
   "cell_type": "markdown",
   "id": "downtown-motivation",
   "metadata": {},
   "source": [
    "Enable FMM for the calculation of the RHS and operator assembly."
   ]
  },
  {
   "cell_type": "code",
   "execution_count": null,
   "id": "raising-indianapolis",
   "metadata": {},
   "outputs": [],
   "source": [
    "protein.operator_assembler = \"fmm\"\n",
    "protein.rhs_constructor = \"fmm\""
   ]
  },
  {
   "cell_type": "markdown",
   "id": "meaningful-palace",
   "metadata": {},
   "source": [
    "Bempp-cl parameters such as the fmm expansion order and quadrater order can be accessed and modified as follows."
   ]
  },
  {
   "cell_type": "code",
   "execution_count": null,
   "id": "alleged-chicago",
   "metadata": {},
   "outputs": [],
   "source": [
    "bem_electrostatics.bempp.api.GLOBAL_PARAMETERS.fmm.expansion_order = 3\n",
    "bem_electrostatics.bempp.api.GLOBAL_PARAMETERS.fmm.ncrit = 50\n",
    "bem_electrostatics.bempp.api.GLOBAL_PARAMETERS.quadrature.regular = 3"
   ]
  },
  {
   "cell_type": "markdown",
   "id": "systematic-brief",
   "metadata": {},
   "source": [
    "Now we can perform the calculations and obtain the solvation energy by calling:"
   ]
  },
  {
   "cell_type": "code",
   "execution_count": 7,
   "id": "frank-basement",
   "metadata": {},
   "outputs": [
    {
     "name": "stderr",
     "output_type": "stream",
     "text": [
      "bempp:HOST:INFO: OpenCL CPU Device set to: pthread-Intel(R) Xeon(R) CPU E5-2680 v3 @ 2.50GHz\n",
      "/home/stefansearch/Software/miniconda3/envs/bempp_git_dev/lib/python3.8/site-packages/scipy/sparse/linalg/dsolve/linsolve.py:318: SparseEfficiencyWarning: splu requires CSC matrix format\n",
      "  warn('splu requires CSC matrix format', SparseEfficiencyWarning)\n",
      "bempp:HOST:INFO: GMRES Iteration 1 with residual 0.2538195242742954\n",
      "bempp:HOST:INFO: GMRES Iteration 2 with residual 0.06763468156414339\n",
      "bempp:HOST:INFO: GMRES Iteration 3 with residual 0.019482039390249454\n",
      "bempp:HOST:INFO: GMRES Iteration 4 with residual 0.007381770978692723\n",
      "bempp:HOST:INFO: GMRES Iteration 5 with residual 0.0037062580854675554\n",
      "bempp:HOST:INFO: GMRES Iteration 6 with residual 0.0020414121939043386\n",
      "bempp:HOST:INFO: GMRES Iteration 7 with residual 0.0011476427234039894\n",
      "bempp:HOST:INFO: GMRES Iteration 8 with residual 0.0007580810042075161\n",
      "bempp:HOST:INFO: GMRES Iteration 9 with residual 0.0005538122921421057\n",
      "bempp:HOST:INFO: GMRES Iteration 10 with residual 0.0004041775185438916\n",
      "bempp:HOST:INFO: GMRES Iteration 11 with residual 0.00027317875101595305\n",
      "bempp:HOST:INFO: GMRES Iteration 12 with residual 0.00016549521997524937\n",
      "bempp:HOST:INFO: GMRES Iteration 13 with residual 0.0001070066729514615\n",
      "bempp:HOST:INFO: GMRES Iteration 14 with residual 7.839803557945249e-05\n",
      "bempp:HOST:INFO: GMRES Iteration 15 with residual 5.2915348420339195e-05\n",
      "bempp:HOST:INFO: GMRES Iteration 16 with residual 3.0295895181614264e-05\n",
      "bempp:HOST:INFO: GMRES Iteration 17 with residual 1.3622134322197392e-05\n",
      "bempp:HOST:INFO: GMRES Iteration 18 with residual 5.537257048694924e-06\n"
     ]
    }
   ],
   "source": [
    "protein.calculate_solvation_energy()"
   ]
  },
  {
   "cell_type": "markdown",
   "id": "discrete-signature",
   "metadata": {},
   "source": [
    "Now the resultas are held in the .results variable of the protein object:"
   ]
  },
  {
   "cell_type": "code",
   "execution_count": 8,
   "id": "threaded-fancy",
   "metadata": {},
   "outputs": [
    {
     "data": {
      "text/plain": [
       "-371.419844464926"
      ]
     },
     "execution_count": 8,
     "metadata": {},
     "output_type": "execute_result"
    }
   ],
   "source": [
    "protein.results['solvation_energy']"
   ]
  },
  {
   "cell_type": "code",
   "execution_count": 10,
   "id": "respective-bargain",
   "metadata": {},
   "outputs": [
    {
     "data": {
      "text/plain": [
       "18"
      ]
     },
     "execution_count": 10,
     "metadata": {},
     "output_type": "execute_result"
    }
   ],
   "source": [
    "protein.results['solver_iteration_count']"
   ]
  },
  {
   "cell_type": "markdown",
   "id": "average-straight",
   "metadata": {},
   "source": [
    "And the different timings in the timings variable:"
   ]
  },
  {
   "cell_type": "code",
   "execution_count": 12,
   "id": "processed-houston",
   "metadata": {},
   "outputs": [
    {
     "data": {
      "text/plain": [
       "19.32831120491028"
      ]
     },
     "execution_count": 12,
     "metadata": {},
     "output_type": "execute_result"
    }
   ],
   "source": [
    "protein.timings['time_matrix_assembly']"
   ]
  },
  {
   "cell_type": "code",
   "execution_count": 13,
   "id": "green-anchor",
   "metadata": {},
   "outputs": [
    {
     "data": {
      "text/plain": [
       "4.605747699737549"
      ]
     },
     "execution_count": 13,
     "metadata": {},
     "output_type": "execute_result"
    }
   ],
   "source": [
    "protein.timings['time_rhs_construction']"
   ]
  },
  {
   "cell_type": "code",
   "execution_count": 14,
   "id": "bibliographic-commons",
   "metadata": {},
   "outputs": [
    {
     "data": {
      "text/plain": [
       "45.163896799087524"
      ]
     },
     "execution_count": 14,
     "metadata": {},
     "output_type": "execute_result"
    }
   ],
   "source": [
    "protein.timings['time_gmres']"
   ]
  },
  {
   "cell_type": "code",
   "execution_count": 15,
   "id": "resident-canada",
   "metadata": {},
   "outputs": [
    {
     "data": {
      "text/plain": [
       "69.38739109039307"
      ]
     },
     "execution_count": 15,
     "metadata": {},
     "output_type": "execute_result"
    }
   ],
   "source": [
    "protein.timings['time_compute_potential']"
   ]
  },
  {
   "cell_type": "code",
   "execution_count": null,
   "id": "prerequisite-parker",
   "metadata": {},
   "outputs": [],
   "source": []
  }
 ],
 "metadata": {
  "kernelspec": {
   "display_name": "Python 3",
   "language": "python",
   "name": "python3"
  },
  "language_info": {
   "codemirror_mode": {
    "name": "ipython",
    "version": 3
   },
   "file_extension": ".py",
   "mimetype": "text/x-python",
   "name": "python",
   "nbconvert_exporter": "python",
   "pygments_lexer": "ipython3",
   "version": "3.8.6"
  }
 },
 "nbformat": 4,
 "nbformat_minor": 5
}
