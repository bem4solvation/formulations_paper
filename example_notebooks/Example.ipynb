{
 "cells": [
  {
   "cell_type": "markdown",
   "id": "sunrise-disaster",
   "metadata": {},
   "source": [
    "Example notebook of use of the bem_electrsostics library used for the PB formulations paper."
   ]
  },
  {
   "cell_type": "code",
   "execution_count": null,
   "id": "false-directory",
   "metadata": {},
   "outputs": [],
   "source": [
    "import pbj"
   ]
  },
  {
   "cell_type": "code",
   "execution_count": null,
   "id": "pacific-revision",
   "metadata": {},
   "outputs": [],
   "source": [
    "pbj.electrostatics.solute.bempp.api.enable_console_logging(\"info\")"
   ]
  },
  {
   "cell_type": "markdown",
   "id": "liquid-stanford",
   "metadata": {},
   "source": [
    "The solute (molecule) object can be created simpily as follows."
   ]
  },
  {
   "cell_type": "code",
   "execution_count": null,
   "id": "greenhouse-laugh",
   "metadata": {},
   "outputs": [],
   "source": [
    "protein = pbj.Solute(\"1bpi.pdb\", mesh_density=4, force_field='parse')"
   ]
  },
  {
   "cell_type": "markdown",
   "id": "rubber-speed",
   "metadata": {},
   "source": [
    "Now the different desierd parameters for the PB simulation, such as formualtion and preconditioning type, can be set. Below are the parameters for using the juffer formulation with scaled mass matrix preconditioning:"
   ]
  },
  {
   "cell_type": "code",
   "execution_count": null,
   "id": "fixed-supplement",
   "metadata": {},
   "outputs": [],
   "source": [
    "protein.pb_formulation = \"juffer\"\n",
    "protein.pb_formulation_preconditioning = True\n",
    "protein.pb_formulation_preconditioning_type = \"scaled_mass\""
   ]
  },
  {
   "cell_type": "markdown",
   "id": "suspended-workshop",
   "metadata": {},
   "source": [
    "However other formulations and preconditioning schemes can be set easily."
   ]
  },
  {
   "cell_type": "code",
   "execution_count": null,
   "id": "established-cricket",
   "metadata": {},
   "outputs": [],
   "source": [
    "protein.pb_formulation = \"direct\"\n",
    "protein.pb_formulation_preconditioning = True\n",
    "protein.pb_formulation_preconditioning_type = \"block_diagonal\""
   ]
  },
  {
   "cell_type": "code",
   "execution_count": null,
   "id": "pending-hawaiian",
   "metadata": {},
   "outputs": [],
   "source": [
    "protein.pb_formulation = \"lu\"\n",
    "protein.pb_formulation_preconditioning = True\n",
    "protein.pb_formulation_preconditioning_type = \"mass_matrix\""
   ]
  },
  {
   "cell_type": "code",
   "execution_count": null,
   "id": "divine-genetics",
   "metadata": {},
   "outputs": [],
   "source": [
    "protein.pb_formulation = \"first_kind_internal\"\n",
    "protein.pb_formulation_preconditioning = True\n",
    "protein.pb_formulation_preconditioning_type = \"calderon_squared\""
   ]
  },
  {
   "cell_type": "markdown",
   "id": "downtown-motivation",
   "metadata": {},
   "source": [
    "Enable FMM for the calculation of the RHS and operator assembly."
   ]
  },
  {
   "cell_type": "code",
   "execution_count": null,
   "id": "raising-indianapolis",
   "metadata": {},
   "outputs": [],
   "source": [
    "protein.operator_assembler = \"fmm\"\n",
    "protein.rhs_constructor = \"fmm\""
   ]
  },
  {
   "cell_type": "markdown",
   "id": "meaningful-palace",
   "metadata": {},
   "source": [
    "Bempp-cl parameters such as the fmm expansion order and quadrater order can be accessed and modified as follows."
   ]
  },
  {
   "cell_type": "code",
   "execution_count": null,
   "id": "alleged-chicago",
   "metadata": {},
   "outputs": [],
   "source": [
    "pbj.electrostatics.solute.bempp.api.GLOBAL_PARAMETERS.fmm.expansion_order = 3\n",
    "pbj.electrostatics.solute.bempp.api.GLOBAL_PARAMETERS.fmm.ncrit = 50\n",
    "pbj.electrostatics.solute.bempp.api.GLOBAL_PARAMETERS.quadrature.regular = 3"
   ]
  },
  {
   "cell_type": "markdown",
   "id": "systematic-brief",
   "metadata": {},
   "source": [
    "Now we can perform the calculations and obtain the solvation energy by calling:"
   ]
  },
  {
   "cell_type": "code",
   "execution_count": null,
   "id": "frank-basement",
   "metadata": {},
   "outputs": [],
   "source": [
    "protein.calculate_solvation_energy()"
   ]
  },
  {
   "cell_type": "markdown",
   "id": "discrete-signature",
   "metadata": {},
   "source": [
    "Now the resultas are held in the .results variable of the protein object:"
   ]
  },
  {
   "cell_type": "code",
   "execution_count": null,
   "id": "threaded-fancy",
   "metadata": {},
   "outputs": [],
   "source": [
    "protein.results['solvation_energy']"
   ]
  },
  {
   "cell_type": "code",
   "execution_count": null,
   "id": "respective-bargain",
   "metadata": {},
   "outputs": [],
   "source": [
    "protein.results['solver_iteration_count']"
   ]
  },
  {
   "cell_type": "markdown",
   "id": "average-straight",
   "metadata": {},
   "source": [
    "And the different timings in the timings variable:"
   ]
  },
  {
   "cell_type": "code",
   "execution_count": null,
   "id": "processed-houston",
   "metadata": {},
   "outputs": [],
   "source": [
    "protein.timings['time_matrix_assembly']"
   ]
  },
  {
   "cell_type": "code",
   "execution_count": null,
   "id": "green-anchor",
   "metadata": {},
   "outputs": [],
   "source": [
    "protein.timings['time_rhs_initialisation']"
   ]
  },
  {
   "cell_type": "code",
   "execution_count": null,
   "id": "bibliographic-commons",
   "metadata": {},
   "outputs": [],
   "source": [
    "protein.timings['time_gmres']"
   ]
  },
  {
   "cell_type": "code",
   "execution_count": null,
   "id": "resident-canada",
   "metadata": {},
   "outputs": [],
   "source": [
    "protein.timings['time_compute_potential']"
   ]
  },
  {
   "cell_type": "code",
   "execution_count": null,
   "id": "prerequisite-parker",
   "metadata": {},
   "outputs": [],
   "source": []
  }
 ],
 "metadata": {
  "kernelspec": {
   "display_name": "Python 3 (ipykernel)",
   "language": "python",
   "name": "python3"
  },
  "language_info": {
   "codemirror_mode": {
    "name": "ipython",
    "version": 3
   },
   "file_extension": ".py",
   "mimetype": "text/x-python",
   "name": "python",
   "nbconvert_exporter": "python",
   "pygments_lexer": "ipython3",
   "version": "3.9.7"
  }
 },
 "nbformat": 4,
 "nbformat_minor": 5
}
